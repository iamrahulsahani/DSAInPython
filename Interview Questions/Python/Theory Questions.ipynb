{
 "cells": [
  {
   "cell_type": "raw",
   "id": "1ce316b1",
   "metadata": {},
   "source": [
    "1) what are keywords in python?\n",
    "ans. These are special reserved words that conveys special meaning to compiler.\n",
    "\n",
    "True     False   None    and         as\n",
    "asset    def     class   continue    break\n",
    "else     finally elif    del         except\n",
    "global   for     if      from        import\n",
    "raise    try      or     return      pass\n",
    "nonlocal in     not     is          lambda\n",
    "\n",
    "-->Case sensitive\n",
    "-->python 3.7"
   ]
  },
  {
   "cell_type": "raw",
   "id": "1acdc07c",
   "metadata": {},
   "source": [
    "2) what are literals in python & explain different literals?\n",
    "ans. Literals are constants used in python.\n",
    "\n",
    "String -> \" \"\n",
    "Numeric -> int(213) long(unlimited = ex. 3265726L) float(34.43) complex(3+14j)\n",
    "Boolean -> True False\n",
    "Special -> None"
   ]
  },
  {
   "cell_type": "raw",
   "id": "d5f9e51f",
   "metadata": {},
   "source": [
    "3) what are dictionary? create a dictionay where the key is \"Fruit_Name\" & there are 4 fruits in values\n",
    "ans. my_dictionary = {\"Fruit_Name\":(\"apple\", \"mango\", \"orange\", \"guava\")}"
   ]
  },
  {
   "cell_type": "code",
   "execution_count": null,
   "id": "0e3f5169",
   "metadata": {},
   "outputs": [],
   "source": []
  }
 ],
 "metadata": {
  "kernelspec": {
   "display_name": "Python 3 (ipykernel)",
   "language": "python",
   "name": "python3"
  },
  "language_info": {
   "codemirror_mode": {
    "name": "ipython",
    "version": 3
   },
   "file_extension": ".py",
   "mimetype": "text/x-python",
   "name": "python",
   "nbconvert_exporter": "python",
   "pygments_lexer": "ipython3",
   "version": "3.10.4"
  }
 },
 "nbformat": 4,
 "nbformat_minor": 5
}
