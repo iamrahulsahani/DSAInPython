{
 "cells": [
  {
   "cell_type": "markdown",
   "id": "4f8e63f9",
   "metadata": {},
   "source": [
    "# 01. Print Entered String"
   ]
  },
  {
   "cell_type": "code",
   "execution_count": 3,
   "id": "193d14de",
   "metadata": {},
   "outputs": [
    {
     "name": "stdout",
     "output_type": "stream",
     "text": [
      "Enter a string:rks\n",
      "rks\n"
     ]
    }
   ],
   "source": [
    "s = input(\"Enter a string:\")\n",
    "print(s)\n",
    "\n",
    "# print(input(\"enter a string:\"))"
   ]
  },
  {
   "cell_type": "markdown",
   "id": "77d2e5c1",
   "metadata": {},
   "source": [
    "# 02. Calculate length of string"
   ]
  },
  {
   "cell_type": "code",
   "execution_count": 6,
   "id": "92610f49",
   "metadata": {},
   "outputs": [
    {
     "name": "stdout",
     "output_type": "stream",
     "text": [
      "length :  5\n"
     ]
    }
   ],
   "source": [
    "s = \"rahul\"\n",
    "l = 0\n",
    "for x in s:\n",
    "    l += 1\n",
    "print(\"length : \",l)\n",
    "\n",
    "#or\n",
    "#print(len(s))"
   ]
  },
  {
   "cell_type": "markdown",
   "id": "ead53f5a",
   "metadata": {},
   "source": [
    "# 03. Reverse a String"
   ]
  },
  {
   "cell_type": "code",
   "execution_count": 21,
   "id": "ec72959c",
   "metadata": {},
   "outputs": [
    {
     "name": "stdout",
     "output_type": "stream",
     "text": [
      "skr\n",
      "skr"
     ]
    }
   ],
   "source": [
    "s = \"rks\"\n",
    "s1 = \"\"\n",
    "for i in range(len(s)-1,-1,-1):\n",
    "    s1 += s[i]\n",
    "print(s1)\n",
    "\n",
    "# print(s[::-1])\n",
    "\n",
    "# for x in reversed(s):\n",
    "#     print(x,end=\"\")"
   ]
  },
  {
   "cell_type": "markdown",
   "id": "c230df98",
   "metadata": {},
   "source": [
    "# 04. Count occurences"
   ]
  },
  {
   "cell_type": "code",
   "execution_count": 28,
   "id": "37ab72f7",
   "metadata": {},
   "outputs": [
    {
     "name": "stdout",
     "output_type": "stream",
     "text": [
      "2\n"
     ]
    }
   ],
   "source": [
    "s = \"rahhuls\"\n",
    "c = \"h\"\n",
    "count = 0\n",
    "for x in s:\n",
    "    if c == x:\n",
    "        count += 1\n",
    "print(count)\n",
    "\n",
    "# print(s.count(\"h\"))"
   ]
  },
  {
   "cell_type": "markdown",
   "id": "c23bbe40",
   "metadata": {},
   "source": [
    "# 05. Swap Case"
   ]
  },
  {
   "cell_type": "code",
   "execution_count": 32,
   "id": "11506703",
   "metadata": {},
   "outputs": [
    {
     "name": "stdout",
     "output_type": "stream",
     "text": [
      "RAhul\n"
     ]
    }
   ],
   "source": [
    "s = \"raHUL\"\n",
    "out = \"\"\n",
    "for x in s:\n",
    "    if x >= 'a' and x <= 'z':\n",
    "        out += (chr(ord(x)-32))\n",
    "    elif x >= 'A' and x <= 'Z':\n",
    "        out += chr(ord(x)+32)\n",
    "print(out)\n",
    "\n",
    "# print(s.swapcase())"
   ]
  },
  {
   "cell_type": "markdown",
   "id": "b272e68c",
   "metadata": {},
   "source": [
    "# 06. Check if a string is Aphanumeric"
   ]
  },
  {
   "cell_type": "code",
   "execution_count": 52,
   "id": "4b59ece8",
   "metadata": {},
   "outputs": [
    {
     "name": "stdout",
     "output_type": "stream",
     "text": [
      "True\n"
     ]
    }
   ],
   "source": [
    "s = \"abc123\"\n",
    "alpha = False\n",
    "numeric = False\n",
    "for x in s:\n",
    "    if (x >= 'a' and x <= 'z') or (x >= 'A' and x <= 'Z'):\n",
    "        alpha = True\n",
    "    elif x >= '0' and x <= '9':\n",
    "        numeric = True\n",
    "print(True if alpha and numeric else False)"
   ]
  },
  {
   "cell_type": "markdown",
   "id": "4f35b695",
   "metadata": {},
   "source": [
    "# 07. Convert the string to Uppercase"
   ]
  },
  {
   "cell_type": "code",
   "execution_count": 58,
   "id": "474d7352",
   "metadata": {},
   "outputs": [
    {
     "data": {
      "text/plain": [
       "'RAHUL'"
      ]
     },
     "execution_count": 58,
     "metadata": {},
     "output_type": "execute_result"
    }
   ],
   "source": [
    "s = \"rahul\"\n",
    "s1 = \"\"\n",
    "for x in s:\n",
    "    s1 += chr(ord(x) - 32)\n",
    "s1"
   ]
  },
  {
   "cell_type": "markdown",
   "id": "be45bc85",
   "metadata": {},
   "source": [
    "# 08. Check the string is palindrome or not"
   ]
  },
  {
   "cell_type": "code",
   "execution_count": 70,
   "id": "bebb4e73",
   "metadata": {},
   "outputs": [
    {
     "data": {
      "text/plain": [
       "True"
      ]
     },
     "execution_count": 70,
     "metadata": {},
     "output_type": "execute_result"
    }
   ],
   "source": [
    "s = \"noon\"\n",
    "flag = True\n",
    "for i,n in enumerate(s):\n",
    "    if s[i] != s[len(s)-1-i]:\n",
    "        flag = False\n",
    "        break\n",
    "True if flag else False"
   ]
  },
  {
   "cell_type": "markdown",
   "id": "7fb00194",
   "metadata": {},
   "source": [
    "# 09. Program To Count words in a sentence"
   ]
  },
  {
   "cell_type": "code",
   "execution_count": 88,
   "id": "904bc14e",
   "metadata": {},
   "outputs": [
    {
     "name": "stdout",
     "output_type": "stream",
     "text": [
      "3\n"
     ]
    }
   ],
   "source": [
    "s = \"The Rahul sahani\"\n",
    "c = 0\n",
    "for i in range(len(s)-1):\n",
    "    if ((s[i] >= 'a' and s[i] <= 'z') or (s[i] >= 'A' and s[i] <= 'Z')) and s[i+1] == \" \":\n",
    "        c += 1\n",
    "if ((s[-1] >= 'a' and s[-1] <= 'z') or (s[-1] >= 'A' and s[-1] <= 'Z')):#because if no space after last word then it will not count the last one\n",
    "    c += 1\n",
    "    \n",
    "print(c)\n",
    "    \n",
    "    \n",
    "    "
   ]
  },
  {
   "cell_type": "markdown",
   "id": "03760069",
   "metadata": {},
   "source": [
    "# 10. Remove Adjacent duplicates"
   ]
  },
  {
   "cell_type": "code",
   "execution_count": 90,
   "id": "0f080529",
   "metadata": {},
   "outputs": [
    {
     "name": "stdout",
     "output_type": "stream",
     "text": [
      "abcda\n"
     ]
    }
   ],
   "source": [
    "s = \"aabbbccdab\"\n",
    "s1 = \"\"\n",
    "for i in range(len(s)-1):\n",
    "    if s[i] != s[i+1]:\n",
    "        s1 += s[i]\n",
    "print(s1)"
   ]
  },
  {
   "cell_type": "markdown",
   "id": "9d54f0d9",
   "metadata": {},
   "source": [
    "# 11. Remove duplicate characters from String"
   ]
  },
  {
   "cell_type": "code",
   "execution_count": 93,
   "id": "081e1d0c",
   "metadata": {},
   "outputs": [
    {
     "data": {
      "text/plain": [
       "'abcd'"
      ]
     },
     "execution_count": 93,
     "metadata": {},
     "output_type": "execute_result"
    }
   ],
   "source": [
    "hashmap = {}\n",
    "s = \"abacccda\"\n",
    "for x in s:\n",
    "    if x not in hashmap:\n",
    "        hashmap[x] = 0\n",
    "\"\".join(list(hashmap.keys()))"
   ]
  },
  {
   "cell_type": "code",
   "execution_count": null,
   "id": "ced88d31",
   "metadata": {},
   "outputs": [],
   "source": []
  }
 ],
 "metadata": {
  "kernelspec": {
   "display_name": "Python 3 (ipykernel)",
   "language": "python",
   "name": "python3"
  },
  "language_info": {
   "codemirror_mode": {
    "name": "ipython",
    "version": 3
   },
   "file_extension": ".py",
   "mimetype": "text/x-python",
   "name": "python",
   "nbconvert_exporter": "python",
   "pygments_lexer": "ipython3",
   "version": "3.10.4"
  }
 },
 "nbformat": 4,
 "nbformat_minor": 5
}
