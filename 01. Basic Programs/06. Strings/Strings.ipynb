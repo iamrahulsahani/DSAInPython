{
 "cells": [
  {
   "cell_type": "markdown",
   "id": "d74b5fbd",
   "metadata": {},
   "source": [
    "# 01. Print Entered String"
   ]
  },
  {
   "cell_type": "code",
   "execution_count": 3,
   "id": "7c6e0759",
   "metadata": {},
   "outputs": [
    {
     "name": "stdout",
     "output_type": "stream",
     "text": [
      "Enter a string:rks\n",
      "rks\n"
     ]
    }
   ],
   "source": [
    "s = input(\"Enter a string:\")\n",
    "print(s)\n",
    "\n",
    "# print(input(\"enter a string:\"))"
   ]
  },
  {
   "cell_type": "markdown",
   "id": "67f5052f",
   "metadata": {},
   "source": [
    "# 02. Calculate length of string"
   ]
  },
  {
   "cell_type": "code",
   "execution_count": 6,
   "id": "b48a268d",
   "metadata": {},
   "outputs": [
    {
     "name": "stdout",
     "output_type": "stream",
     "text": [
      "length :  5\n"
     ]
    }
   ],
   "source": [
    "s = \"rahul\"\n",
    "l = 0\n",
    "for x in s:\n",
    "    l += 1\n",
    "print(\"length : \",l)\n",
    "\n",
    "#or\n",
    "#print(len(s))"
   ]
  },
  {
   "cell_type": "markdown",
   "id": "d51a35a2",
   "metadata": {},
   "source": [
    "# 03. Reverse a String"
   ]
  },
  {
   "cell_type": "code",
   "execution_count": 21,
   "id": "bd8276f2",
   "metadata": {},
   "outputs": [
    {
     "name": "stdout",
     "output_type": "stream",
     "text": [
      "skr\n",
      "skr"
     ]
    }
   ],
   "source": [
    "s = \"rks\"\n",
    "s1 = \"\"\n",
    "for i in range(len(s)-1,-1,-1):\n",
    "    s1 += s[i]\n",
    "print(s1)\n",
    "\n",
    "# print(s[::-1])\n",
    "\n",
    "# for x in reversed(s):\n",
    "#     print(x,end=\"\")"
   ]
  },
  {
   "cell_type": "markdown",
   "id": "093dbe5a",
   "metadata": {},
   "source": [
    "# 04. Count occurences"
   ]
  },
  {
   "cell_type": "code",
   "execution_count": 28,
   "id": "99889218",
   "metadata": {},
   "outputs": [
    {
     "name": "stdout",
     "output_type": "stream",
     "text": [
      "2\n"
     ]
    }
   ],
   "source": [
    "s = \"rahhuls\"\n",
    "c = \"h\"\n",
    "count = 0\n",
    "for x in s:\n",
    "    if c == x:\n",
    "        count += 1\n",
    "print(count)\n",
    "\n",
    "# print(s.count(\"h\"))"
   ]
  },
  {
   "cell_type": "markdown",
   "id": "8ffb4085",
   "metadata": {},
   "source": [
    "# 05. Swap Case"
   ]
  },
  {
   "cell_type": "code",
   "execution_count": 32,
   "id": "8809de65",
   "metadata": {},
   "outputs": [
    {
     "name": "stdout",
     "output_type": "stream",
     "text": [
      "RAhul\n"
     ]
    }
   ],
   "source": [
    "s = \"raHUL\"\n",
    "out = \"\"\n",
    "for x in s:\n",
    "    if x >= 'a' and x <= 'z':\n",
    "        out += (chr(ord(x)-32))\n",
    "    elif x >= 'A' and x <= 'Z':\n",
    "        out += chr(ord(x)+32)\n",
    "print(out)\n",
    "\n",
    "# print(s.swapcase())"
   ]
  },
  {
   "cell_type": "markdown",
   "id": "7b293b7e",
   "metadata": {},
   "source": [
    "# 06. Check if a string is Aphanumeric"
   ]
  },
  {
   "cell_type": "code",
   "execution_count": 52,
   "id": "afe5d10a",
   "metadata": {},
   "outputs": [
    {
     "name": "stdout",
     "output_type": "stream",
     "text": [
      "True\n"
     ]
    }
   ],
   "source": [
    "s = \"abc123\"\n",
    "alpha = False\n",
    "numeric = False\n",
    "for x in s:\n",
    "    if (x >= 'a' and x <= 'z') or (x >= 'A' and x <= 'Z'):\n",
    "        alpha = True\n",
    "    elif x >= '0' and x <= '9':\n",
    "        numeric = True\n",
    "print(True if alpha and numeric else False)"
   ]
  },
  {
   "cell_type": "markdown",
   "id": "9d7c6836",
   "metadata": {},
   "source": [
    "# 07. Convert the string to Uppercase"
   ]
  },
  {
   "cell_type": "code",
   "execution_count": null,
   "id": "e77fa48b",
   "metadata": {},
   "outputs": [],
   "source": []
  }
 ],
 "metadata": {
  "kernelspec": {
   "display_name": "Python 3 (ipykernel)",
   "language": "python",
   "name": "python3"
  },
  "language_info": {
   "codemirror_mode": {
    "name": "ipython",
    "version": 3
   },
   "file_extension": ".py",
   "mimetype": "text/x-python",
   "name": "python",
   "nbconvert_exporter": "python",
   "pygments_lexer": "ipython3",
   "version": "3.10.4"
  }
 },
 "nbformat": 4,
 "nbformat_minor": 5
}
