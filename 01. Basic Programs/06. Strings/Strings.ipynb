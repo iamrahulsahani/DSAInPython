{
 "cells": [
  {
   "cell_type": "markdown",
   "id": "ed403f90",
   "metadata": {},
   "source": [
    "# 01. Print Entered String"
   ]
  },
  {
   "cell_type": "code",
   "execution_count": 3,
   "id": "edaadc68",
   "metadata": {},
   "outputs": [
    {
     "name": "stdout",
     "output_type": "stream",
     "text": [
      "Enter a string:rks\n",
      "rks\n"
     ]
    }
   ],
   "source": [
    "s = input(\"Enter a string:\")\n",
    "print(s)\n",
    "\n",
    "# print(input(\"enter a string:\"))"
   ]
  },
  {
   "cell_type": "markdown",
   "id": "489ca21d",
   "metadata": {},
   "source": [
    "# 02. Calculate length of string"
   ]
  },
  {
   "cell_type": "code",
   "execution_count": 6,
   "id": "9237dd9c",
   "metadata": {},
   "outputs": [
    {
     "name": "stdout",
     "output_type": "stream",
     "text": [
      "length :  5\n"
     ]
    }
   ],
   "source": [
    "s = \"rahul\"\n",
    "l = 0\n",
    "for x in s:\n",
    "    l += 1\n",
    "print(\"length : \",l)\n",
    "\n",
    "#or\n",
    "#print(len(s))"
   ]
  },
  {
   "cell_type": "markdown",
   "id": "74bdf3fb",
   "metadata": {},
   "source": [
    "# 03. Reverse a String"
   ]
  },
  {
   "cell_type": "code",
   "execution_count": 21,
   "id": "d7fa708f",
   "metadata": {},
   "outputs": [
    {
     "name": "stdout",
     "output_type": "stream",
     "text": [
      "skr\n",
      "skr"
     ]
    }
   ],
   "source": [
    "s = \"rks\"\n",
    "s1 = \"\"\n",
    "for i in range(len(s)-1,-1,-1):\n",
    "    s1 += s[i]\n",
    "print(s1)\n",
    "\n",
    "# print(s[::-1])\n",
    "\n",
    "# for x in reversed(s):\n",
    "#     print(x,end=\"\")"
   ]
  },
  {
   "cell_type": "markdown",
   "id": "673bb79e",
   "metadata": {},
   "source": [
    "# 04. Count occurences"
   ]
  },
  {
   "cell_type": "code",
   "execution_count": 28,
   "id": "a7a3f5fa",
   "metadata": {},
   "outputs": [
    {
     "name": "stdout",
     "output_type": "stream",
     "text": [
      "2\n"
     ]
    }
   ],
   "source": [
    "s = \"rahhuls\"\n",
    "c = \"h\"\n",
    "count = 0\n",
    "for x in s:\n",
    "    if c == x:\n",
    "        count += 1\n",
    "print(count)\n",
    "\n",
    "# print(s.count(\"h\"))"
   ]
  },
  {
   "cell_type": "markdown",
   "id": "d01bfa9e",
   "metadata": {},
   "source": [
    "# 05. Swap Case"
   ]
  },
  {
   "cell_type": "code",
   "execution_count": 32,
   "id": "bac7c231",
   "metadata": {},
   "outputs": [
    {
     "name": "stdout",
     "output_type": "stream",
     "text": [
      "RAhul\n"
     ]
    }
   ],
   "source": [
    "s = \"raHUL\"\n",
    "out = \"\"\n",
    "for x in s:\n",
    "    if x >= 'a' and x <= 'z':\n",
    "        out += (chr(ord(x)-32))\n",
    "    elif x >= 'A' and x <= 'Z':\n",
    "        out += chr(ord(x)+32)\n",
    "print(out)\n",
    "\n",
    "# print(s.swapcase())"
   ]
  },
  {
   "cell_type": "code",
   "execution_count": null,
   "id": "226bb8bc",
   "metadata": {},
   "outputs": [],
   "source": []
  }
 ],
 "metadata": {
  "kernelspec": {
   "display_name": "Python 3 (ipykernel)",
   "language": "python",
   "name": "python3"
  },
  "language_info": {
   "codemirror_mode": {
    "name": "ipython",
    "version": 3
   },
   "file_extension": ".py",
   "mimetype": "text/x-python",
   "name": "python",
   "nbconvert_exporter": "python",
   "pygments_lexer": "ipython3",
   "version": "3.10.4"
  }
 },
 "nbformat": 4,
 "nbformat_minor": 5
}
