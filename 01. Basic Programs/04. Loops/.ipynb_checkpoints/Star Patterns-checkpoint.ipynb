{
 "cells": [
  {
   "cell_type": "markdown",
   "id": "222219e9",
   "metadata": {},
   "source": [
    "# 1"
   ]
  },
  {
   "cell_type": "code",
   "execution_count": 55,
   "id": "0e031187",
   "metadata": {},
   "outputs": [
    {
     "name": "stdout",
     "output_type": "stream",
     "text": [
      "* * * * * \n",
      "* * * * * \n",
      "* * * * * \n",
      "* * * * * \n",
      "* * * * * \n"
     ]
    }
   ],
   "source": [
    "for i in range(1, 6):\n",
    "    for j in range(1, 6):\n",
    "        print(\"*\", end=\" \")\n",
    "    print()"
   ]
  },
  {
   "cell_type": "markdown",
   "id": "caf83143",
   "metadata": {},
   "source": [
    "# 2"
   ]
  },
  {
   "cell_type": "code",
   "execution_count": 54,
   "id": "06295418",
   "metadata": {},
   "outputs": [
    {
     "name": "stdout",
     "output_type": "stream",
     "text": [
      "1 1 1 1 1 \n",
      "2 2 2 2 2 \n",
      "3 3 3 3 3 \n",
      "4 4 4 4 4 \n",
      "5 5 5 5 5 \n"
     ]
    }
   ],
   "source": [
    "for i in range(1, 6):\n",
    "    for j in range(1, 6):\n",
    "        print(i, end=\" \")\n",
    "    print()"
   ]
  },
  {
   "cell_type": "markdown",
   "id": "85130304",
   "metadata": {},
   "source": [
    "# 3"
   ]
  },
  {
   "cell_type": "code",
   "execution_count": 53,
   "id": "6703a69e",
   "metadata": {},
   "outputs": [
    {
     "name": "stdout",
     "output_type": "stream",
     "text": [
      "A A A A A \n",
      "B B B B B \n",
      "C C C C C \n",
      "D D D D D \n",
      "E E E E E \n"
     ]
    }
   ],
   "source": [
    "for i in range(65, 70):\n",
    "    for j in range(1, 6):\n",
    "        print(chr(i), end=\" \")\n",
    "    print()"
   ]
  },
  {
   "cell_type": "markdown",
   "id": "10702c47",
   "metadata": {},
   "source": [
    "# 4"
   ]
  },
  {
   "cell_type": "code",
   "execution_count": 52,
   "id": "a7a166c4",
   "metadata": {},
   "outputs": [
    {
     "name": "stdout",
     "output_type": "stream",
     "text": [
      "A B C D E \n",
      "A B C D E \n",
      "A B C D E \n",
      "A B C D E \n",
      "A B C D E \n"
     ]
    }
   ],
   "source": [
    "for i in range(1, 6):\n",
    "    for j in range(65,70):\n",
    "        print(chr(j), end=\" \")\n",
    "    print()"
   ]
  },
  {
   "cell_type": "markdown",
   "id": "54b2e5b3",
   "metadata": {},
   "source": [
    "# 5"
   ]
  },
  {
   "cell_type": "code",
   "execution_count": 51,
   "id": "b89465e6",
   "metadata": {},
   "outputs": [
    {
     "name": "stdout",
     "output_type": "stream",
     "text": [
      "5 5 5 5 5 \n",
      "4 4 4 4 4 \n",
      "3 3 3 3 3 \n",
      "2 2 2 2 2 \n",
      "1 1 1 1 1 \n"
     ]
    }
   ],
   "source": [
    "for i in range(5, 0,-1):\n",
    "    for j in range(1,6):\n",
    "        print(i, end=\" \")\n",
    "    print()"
   ]
  },
  {
   "cell_type": "markdown",
   "id": "48597346",
   "metadata": {},
   "source": [
    "# 6"
   ]
  },
  {
   "cell_type": "code",
   "execution_count": 50,
   "id": "3ff723ef",
   "metadata": {},
   "outputs": [
    {
     "name": "stdout",
     "output_type": "stream",
     "text": [
      "5 4 3 2 1 \n",
      "5 4 3 2 1 \n",
      "5 4 3 2 1 \n",
      "5 4 3 2 1 \n",
      "5 4 3 2 1 \n"
     ]
    }
   ],
   "source": [
    "for i in range(5, 0, -1):\n",
    "    for j in range(5, 0, -1):\n",
    "        print(j, end=\" \")\n",
    "    print()"
   ]
  },
  {
   "cell_type": "markdown",
   "id": "0251778f",
   "metadata": {},
   "source": [
    "# 7"
   ]
  },
  {
   "cell_type": "code",
   "execution_count": 49,
   "id": "af40e829",
   "metadata": {},
   "outputs": [
    {
     "name": "stdout",
     "output_type": "stream",
     "text": [
      "E E E E E \n",
      "D D D D D \n",
      "C C C C C \n",
      "B B B B B \n",
      "A A A A A \n"
     ]
    }
   ],
   "source": [
    "for i in range(69, 64,-1):\n",
    "    for j in range(1,6):\n",
    "        print(chr(i), end=\" \")\n",
    "    print()"
   ]
  },
  {
   "cell_type": "markdown",
   "id": "c75c218d",
   "metadata": {},
   "source": [
    "# 8"
   ]
  },
  {
   "cell_type": "code",
   "execution_count": 48,
   "id": "421d7f7b",
   "metadata": {},
   "outputs": [
    {
     "name": "stdout",
     "output_type": "stream",
     "text": [
      "E D C B A \n",
      "E D C B A \n",
      "E D C B A \n",
      "E D C B A \n",
      "E D C B A \n"
     ]
    }
   ],
   "source": [
    "for i in range(1, 6):\n",
    "    for j in range(69, 64,-1):\n",
    "        print(chr(j), end=\" \")\n",
    "    print()"
   ]
  },
  {
   "cell_type": "markdown",
   "id": "e41cced3",
   "metadata": {},
   "source": [
    "# 9"
   ]
  },
  {
   "cell_type": "code",
   "execution_count": 97,
   "id": "03589532",
   "metadata": {},
   "outputs": [
    {
     "name": "stdout",
     "output_type": "stream",
     "text": [
      "*         \n",
      "* *       \n",
      "* * *     \n",
      "* * * *   \n",
      "* * * * * \n"
     ]
    }
   ],
   "source": [
    "for i in range(1, 6):\n",
    "    for j in range(1, 6):\n",
    "        if(j<=i):\n",
    "            print(\"*\",end=\" \")\n",
    "        else:\n",
    "            print(\" \",end=\" \")\n",
    "    print()"
   ]
  },
  {
   "cell_type": "markdown",
   "id": "e8b18ab5",
   "metadata": {},
   "source": [
    "# 10"
   ]
  },
  {
   "cell_type": "code",
   "execution_count": 96,
   "id": "7f945523",
   "metadata": {},
   "outputs": [
    {
     "name": "stdout",
     "output_type": "stream",
     "text": [
      "1         \n",
      "2 2       \n",
      "3 3 3     \n",
      "4 4 4 4   \n",
      "5 5 5 5 5 \n"
     ]
    }
   ],
   "source": [
    "for i in range(1, 6):\n",
    "    for j in range(1, 6):\n",
    "        if(j<=i):\n",
    "            print(i,end=\" \")\n",
    "        else:\n",
    "            print(\" \",end=\" \")\n",
    "    print()"
   ]
  },
  {
   "cell_type": "markdown",
   "id": "b0755903",
   "metadata": {},
   "source": [
    "# 11"
   ]
  },
  {
   "cell_type": "code",
   "execution_count": 95,
   "id": "77dc4ca5",
   "metadata": {},
   "outputs": [
    {
     "name": "stdout",
     "output_type": "stream",
     "text": [
      "A         \n",
      "B B       \n",
      "C C C     \n",
      "D D D D   \n",
      "E E E E E \n"
     ]
    }
   ],
   "source": [
    "for i in range(65, 70):\n",
    "    for j in range(65, 70):\n",
    "        if(j<=i):\n",
    "            print(chr(i),end=\" \")\n",
    "        else:\n",
    "            print(\" \",end=\" \")\n",
    "    print()"
   ]
  },
  {
   "cell_type": "markdown",
   "id": "0bc81d7d",
   "metadata": {},
   "source": [
    "# 12"
   ]
  },
  {
   "cell_type": "code",
   "execution_count": 94,
   "id": "945732d5",
   "metadata": {},
   "outputs": [
    {
     "name": "stdout",
     "output_type": "stream",
     "text": [
      "A         \n",
      "A B       \n",
      "A B C     \n",
      "A B C D   \n",
      "A B C D E \n"
     ]
    }
   ],
   "source": [
    "for i in range(65, 70):\n",
    "    for j in range(65, 70):\n",
    "        if(j<=i):\n",
    "            print(chr(j),end=\" \")\n",
    "        else:\n",
    "            print(\" \",end=\" \")\n",
    "    print()"
   ]
  },
  {
   "cell_type": "markdown",
   "id": "9be22377",
   "metadata": {},
   "source": [
    "# 13"
   ]
  },
  {
   "cell_type": "code",
   "execution_count": 93,
   "id": "9ae82cc0",
   "metadata": {},
   "outputs": [
    {
     "name": "stdout",
     "output_type": "stream",
     "text": [
      "* * * * * \n",
      "* * * *   \n",
      "* * *     \n",
      "* *       \n",
      "*         \n"
     ]
    }
   ],
   "source": [
    "for i in range(1, 6):\n",
    "    for j in range(1, 6):\n",
    "        if(j<=6-i):\n",
    "            print(\"*\",end=\" \")\n",
    "        else:\n",
    "            print(\" \",end=\" \")\n",
    "    print()"
   ]
  },
  {
   "cell_type": "markdown",
   "id": "89ac5d2f",
   "metadata": {},
   "source": [
    "# 14"
   ]
  },
  {
   "cell_type": "code",
   "execution_count": 92,
   "id": "08bbd285",
   "metadata": {},
   "outputs": [
    {
     "name": "stdout",
     "output_type": "stream",
     "text": [
      "1 1 1 1 1 \n",
      "2 2 2 2   \n",
      "3 3 3     \n",
      "4 4       \n",
      "5         \n"
     ]
    }
   ],
   "source": [
    "for i in range(1, 6):\n",
    "    for j in range(1, 6):\n",
    "        if(j<=6-i):\n",
    "            print(i,end=\" \")\n",
    "        else:\n",
    "            print(\" \",end=\" \")\n",
    "    print()"
   ]
  },
  {
   "cell_type": "markdown",
   "id": "4e0a2124",
   "metadata": {},
   "source": [
    "# 15"
   ]
  },
  {
   "cell_type": "code",
   "execution_count": 91,
   "id": "24364d04",
   "metadata": {},
   "outputs": [
    {
     "name": "stdout",
     "output_type": "stream",
     "text": [
      "1 2 3 4 5 \n",
      "1 2 3 4   \n",
      "1 2 3     \n",
      "1 2       \n",
      "1         \n"
     ]
    }
   ],
   "source": [
    "for i in range(1, 6):\n",
    "    for j in range(1, 6):\n",
    "        if(j<=6-i):\n",
    "            print(j,end=\" \")\n",
    "        else:\n",
    "            print(\" \",end=\" \")\n",
    "    print()"
   ]
  },
  {
   "cell_type": "markdown",
   "id": "65d78438",
   "metadata": {},
   "source": [
    "# 16"
   ]
  },
  {
   "cell_type": "code",
   "execution_count": 90,
   "id": "087cf3cc",
   "metadata": {},
   "outputs": [
    {
     "name": "stdout",
     "output_type": "stream",
     "text": [
      "A A A A A \n",
      "B B B B   \n",
      "C C C     \n",
      "D D       \n",
      "E         \n"
     ]
    }
   ],
   "source": [
    "k = 65\n",
    "for i in range(1, 6):\n",
    "    for j in range(1, 6):\n",
    "        if(j<=6-i):\n",
    "            print(chr(k),end=\" \")\n",
    "        else:\n",
    "            print(\" \",end=\" \")\n",
    "    k += 1\n",
    "    print()"
   ]
  },
  {
   "cell_type": "markdown",
   "id": "13901a69",
   "metadata": {},
   "source": [
    "# 17"
   ]
  },
  {
   "cell_type": "code",
   "execution_count": 89,
   "id": "d2d8fe5a",
   "metadata": {},
   "outputs": [
    {
     "name": "stdout",
     "output_type": "stream",
     "text": [
      "A B C D E \n",
      "A B C D   \n",
      "A B C     \n",
      "A B       \n",
      "A         \n"
     ]
    }
   ],
   "source": [
    "for i in range(1, 6):\n",
    "    k = 65\n",
    "    for j in range(1, 6):\n",
    "        if(j<=6-i):\n",
    "            print(chr(k),end=\" \")\n",
    "        else:\n",
    "            print(\" \",end=\" \")\n",
    "        k += 1\n",
    "    print()"
   ]
  },
  {
   "cell_type": "markdown",
   "id": "77e126d5",
   "metadata": {},
   "source": [
    "# 18"
   ]
  },
  {
   "cell_type": "code",
   "execution_count": 88,
   "id": "39674dd6",
   "metadata": {},
   "outputs": [
    {
     "name": "stdout",
     "output_type": "stream",
     "text": [
      "5 5 5 5 5 \n",
      "4 4 4 4   \n",
      "3 3 3     \n",
      "2 2       \n",
      "1         \n"
     ]
    }
   ],
   "source": [
    "k = 5\n",
    "for i in range(1, 6):\n",
    "    for j in range(1, 6):\n",
    "        if(j<=6-i):\n",
    "            print(k,end=\" \")\n",
    "        else:\n",
    "            print(\" \",end=\" \")\n",
    "    k -= 1\n",
    "    print()"
   ]
  },
  {
   "cell_type": "markdown",
   "id": "82e3c302",
   "metadata": {},
   "source": [
    "# 19"
   ]
  },
  {
   "cell_type": "code",
   "execution_count": 87,
   "id": "d1ddf553",
   "metadata": {},
   "outputs": [
    {
     "name": "stdout",
     "output_type": "stream",
     "text": [
      "5 4 3 2 1 \n",
      "5 4 3 2   \n",
      "5 4 3     \n",
      "5 4       \n",
      "5         \n"
     ]
    }
   ],
   "source": [
    "for i in range(1, 6):\n",
    "    k = 5\n",
    "    for j in range(1, 6):\n",
    "        if(j<=6-i):\n",
    "            print(k,end=\" \")\n",
    "        else:\n",
    "            print(\" \",end=\" \")\n",
    "        k -= 1\n",
    "    print()"
   ]
  },
  {
   "cell_type": "markdown",
   "id": "ff86253d",
   "metadata": {},
   "source": [
    "# 20"
   ]
  },
  {
   "cell_type": "code",
   "execution_count": 86,
   "id": "35b007dd",
   "metadata": {},
   "outputs": [
    {
     "name": "stdout",
     "output_type": "stream",
     "text": [
      "E E E E E \n",
      "D D D D   \n",
      "C C C     \n",
      "B B       \n",
      "A         \n"
     ]
    }
   ],
   "source": [
    "k = 69\n",
    "for i in range(1, 6):\n",
    "    for j in range(1, 6):\n",
    "        if(j<=6-i):\n",
    "            print(chr(k),end=\" \")\n",
    "        else:\n",
    "            print(\" \",end=\" \")\n",
    "    k -= 1\n",
    "    print()"
   ]
  },
  {
   "cell_type": "markdown",
   "id": "6951842b",
   "metadata": {},
   "source": [
    "# 21"
   ]
  },
  {
   "cell_type": "code",
   "execution_count": 85,
   "id": "ba412820",
   "metadata": {},
   "outputs": [
    {
     "name": "stdout",
     "output_type": "stream",
     "text": [
      "E D C B A \n",
      "E D C B   \n",
      "E D C     \n",
      "E D       \n",
      "E         \n"
     ]
    }
   ],
   "source": [
    "for i in range(1, 6):\n",
    "    k = 69\n",
    "    for j in range(1, 6):\n",
    "        if(j<=6-i):\n",
    "            print(chr(k),end=\" \")\n",
    "        else:\n",
    "            print(\" \",end=\" \")\n",
    "        k -= 1\n",
    "    print()"
   ]
  },
  {
   "cell_type": "markdown",
   "id": "64ca1730",
   "metadata": {},
   "source": [
    "# 22"
   ]
  },
  {
   "cell_type": "code",
   "execution_count": 98,
   "id": "af8ab5fd",
   "metadata": {},
   "outputs": [
    {
     "name": "stdout",
     "output_type": "stream",
     "text": [
      "        * \n",
      "      * * \n",
      "    * * * \n",
      "  * * * * \n",
      "* * * * * \n"
     ]
    }
   ],
   "source": [
    "for i in range(1, 6):\n",
    "    for j in range(1, 6):\n",
    "        if(j>=6-i):\n",
    "            print(\"*\",end=\" \")\n",
    "        else:\n",
    "            print(\" \",end=\" \")\n",
    "    print()"
   ]
  },
  {
   "cell_type": "markdown",
   "id": "dbf090ea",
   "metadata": {},
   "source": [
    "# 23"
   ]
  },
  {
   "cell_type": "code",
   "execution_count": 100,
   "id": "cf21e27d",
   "metadata": {},
   "outputs": [
    {
     "name": "stdout",
     "output_type": "stream",
     "text": [
      "        A \n",
      "      B B \n",
      "    C C C \n",
      "  D D D D \n",
      "E E E E E \n"
     ]
    }
   ],
   "source": [
    "k = 65\n",
    "for i in range(1, 6):\n",
    "    for j in range(1, 6):\n",
    "        if(j>=6-i):\n",
    "            print(chr(k),end=\" \")\n",
    "        else:\n",
    "            print(\" \",end=\" \")\n",
    "    k += 1\n",
    "    print()"
   ]
  },
  {
   "cell_type": "markdown",
   "id": "ba9fe092",
   "metadata": {},
   "source": [
    "# 24"
   ]
  },
  {
   "cell_type": "code",
   "execution_count": 11,
   "id": "39a1c85d",
   "metadata": {},
   "outputs": [
    {
     "name": "stdout",
     "output_type": "stream",
     "text": [
      "        A \n",
      "      A B \n",
      "    A B C \n",
      "  A B C D \n",
      "A B C D E \n"
     ]
    }
   ],
   "source": [
    "for i in range(1, 6):\n",
    "    k = 65\n",
    "    for j in range(1, 6):\n",
    "        if(j>=6-i):\n",
    "            print(chr(k),end=\" \")\n",
    "            k += 1\n",
    "        else:\n",
    "            print(\" \",end=\" \")\n",
    "    print()"
   ]
  },
  {
   "cell_type": "markdown",
   "id": "75aa7e66",
   "metadata": {},
   "source": [
    "# 25"
   ]
  },
  {
   "cell_type": "code",
   "execution_count": 12,
   "id": "6d688483",
   "metadata": {},
   "outputs": [
    {
     "name": "stdout",
     "output_type": "stream",
     "text": [
      "* * * * * \n",
      "  * * * * \n",
      "    * * * \n",
      "      * * \n",
      "        * \n"
     ]
    }
   ],
   "source": [
    "for i in range(1, 6):\n",
    "    for j in range(1, 6):\n",
    "        if(j>=i and j <=5):\n",
    "            print(\"*\",end=\" \")\n",
    "        else:\n",
    "            print(\" \",end=\" \")\n",
    "    print()"
   ]
  },
  {
   "cell_type": "markdown",
   "id": "b2a06724",
   "metadata": {},
   "source": [
    "# 26"
   ]
  },
  {
   "cell_type": "code",
   "execution_count": 14,
   "id": "40aff3db",
   "metadata": {},
   "outputs": [
    {
     "name": "stdout",
     "output_type": "stream",
     "text": [
      "5 5 5 5 5 \n",
      "  4 4 4 4 \n",
      "    3 3 3 \n",
      "      2 2 \n",
      "        1 \n"
     ]
    }
   ],
   "source": [
    "k = 5\n",
    "for i in range(1, 6):\n",
    "    for j in range(1, 6):\n",
    "        if(j>=i and j <=5):\n",
    "            print(k,end=\" \")\n",
    "        else:\n",
    "            print(\" \",end=\" \")\n",
    "    k -= 1\n",
    "    print()"
   ]
  },
  {
   "cell_type": "markdown",
   "id": "96692954",
   "metadata": {},
   "source": [
    "# 27"
   ]
  },
  {
   "cell_type": "code",
   "execution_count": 30,
   "id": "a6d2cc12",
   "metadata": {},
   "outputs": [
    {
     "name": "stdout",
     "output_type": "stream",
     "text": [
      "E E E E E \n",
      "  D D D D \n",
      "    C C C \n",
      "      B B \n",
      "        A \n"
     ]
    }
   ],
   "source": [
    "k = 69\n",
    "for i in range(1, 6):\n",
    "    for j in range(1, 6):\n",
    "        if(j>=i and j <=5):\n",
    "            print(chr(k),end=\" \")\n",
    "        else:\n",
    "            print(\" \",end=\" \")\n",
    "    k -= 1\n",
    "    print()"
   ]
  },
  {
   "cell_type": "markdown",
   "id": "f3d241ec",
   "metadata": {},
   "source": [
    "# 28"
   ]
  },
  {
   "cell_type": "code",
   "execution_count": 34,
   "id": "0eac81a6",
   "metadata": {},
   "outputs": [
    {
     "name": "stdout",
     "output_type": "stream",
     "text": [
      "A B C D E \n",
      "  A B C D \n",
      "    A B C \n",
      "      A B \n",
      "        A \n"
     ]
    }
   ],
   "source": [
    "for i in range(1, 6):\n",
    "    k = 65\n",
    "    for j in range(1, 6):\n",
    "        if(j>=i and j <=5):\n",
    "            print(chr(k),end=\" \")\n",
    "            k += 1\n",
    "        else:\n",
    "            print(\" \",end=\" \")\n",
    "        \n",
    "    print()"
   ]
  },
  {
   "cell_type": "markdown",
   "id": "3a6b77fa",
   "metadata": {},
   "source": [
    "# 29"
   ]
  },
  {
   "cell_type": "code",
   "execution_count": 35,
   "id": "2c544d55",
   "metadata": {},
   "outputs": [
    {
     "name": "stdout",
     "output_type": "stream",
     "text": [
      "        *         \n",
      "      * * *       \n",
      "    * * * * *     \n",
      "  * * * * * * *   \n",
      "* * * * * * * * * \n"
     ]
    }
   ],
   "source": [
    "for i in range(1, 6):\n",
    "    for j in range(1, 10):\n",
    "        if(j>=6-i and j <=i+4):\n",
    "            print(\"*\",end=\" \")\n",
    "        else:\n",
    "            print(\" \",end=\" \")\n",
    "    print()"
   ]
  },
  {
   "cell_type": "markdown",
   "id": "e0e88375",
   "metadata": {},
   "source": [
    "# 30"
   ]
  },
  {
   "cell_type": "code",
   "execution_count": 38,
   "id": "2ff9e114",
   "metadata": {},
   "outputs": [
    {
     "name": "stdout",
     "output_type": "stream",
     "text": [
      "        1         \n",
      "      2 2 2       \n",
      "    3 3 3 3 3     \n",
      "  4 4 4 4 4 4 4   \n",
      "5 5 5 5 5 5 5 5 5 \n"
     ]
    }
   ],
   "source": [
    "for i in range(1, 6):\n",
    "    for j in range(1, 10):\n",
    "        if(j>=6-i and j <=i+4):\n",
    "            print(i,end=\" \")\n",
    "        else:\n",
    "            print(\" \",end=\" \")\n",
    "    print()"
   ]
  },
  {
   "cell_type": "markdown",
   "id": "1aed935d",
   "metadata": {},
   "source": [
    "# 31"
   ]
  },
  {
   "cell_type": "code",
   "execution_count": 44,
   "id": "cd84c40d",
   "metadata": {},
   "outputs": [
    {
     "name": "stdout",
     "output_type": "stream",
     "text": [
      "        1         \n",
      "      3 3 3       \n",
      "    5 5 5 5 5     \n",
      "  7 7 7 7 7 7 7   \n",
      "9 9 9 9 9 9 9 9 9 \n"
     ]
    }
   ],
   "source": [
    "k =1\n",
    "for i in range(1, 6):\n",
    "    for j in range(1, 10):\n",
    "        if(j>=6-i and j <=i+4):\n",
    "            print(k,end=\" \")\n",
    "        else:\n",
    "            print(\" \",end=\" \")\n",
    "    k += 2\n",
    "    print()"
   ]
  },
  {
   "cell_type": "markdown",
   "id": "b8ab74ff",
   "metadata": {},
   "source": [
    "# 32"
   ]
  },
  {
   "cell_type": "code",
   "execution_count": 46,
   "id": "1fc7ba37",
   "metadata": {},
   "outputs": [
    {
     "name": "stdout",
     "output_type": "stream",
     "text": [
      "        A         \n",
      "      B B B       \n",
      "    C C C C C     \n",
      "  D D D D D D D   \n",
      "E E E E E E E E E \n"
     ]
    }
   ],
   "source": [
    "k = 65\n",
    "for i in range(1, 6):\n",
    "    for j in range(1, 10):\n",
    "        if(j>=6-i and j <=i+4):\n",
    "            print(chr(k),end=\" \")\n",
    "        else:\n",
    "            print(\" \",end=\" \")\n",
    "    k += 1\n",
    "    print()"
   ]
  },
  {
   "cell_type": "markdown",
   "id": "2957018d",
   "metadata": {},
   "source": [
    "# 33"
   ]
  },
  {
   "cell_type": "code",
   "execution_count": 47,
   "id": "7871ba6b",
   "metadata": {},
   "outputs": [
    {
     "name": "stdout",
     "output_type": "stream",
     "text": [
      "        A         \n",
      "      C C C       \n",
      "    E E E E E     \n",
      "  G G G G G G G   \n",
      "I I I I I I I I I \n"
     ]
    }
   ],
   "source": [
    "k = 65\n",
    "for i in range(1, 6):\n",
    "    for j in range(1, 10):\n",
    "        if(j>=6-i and j <=i+4):\n",
    "            print(chr(k),end=\" \")\n",
    "        else:\n",
    "            print(\" \",end=\" \")\n",
    "    k += 2\n",
    "    print()"
   ]
  },
  {
   "cell_type": "markdown",
   "id": "b39c0abc",
   "metadata": {},
   "source": [
    "# 34"
   ]
  },
  {
   "cell_type": "code",
   "execution_count": 48,
   "id": "ac46ddb5",
   "metadata": {},
   "outputs": [
    {
     "name": "stdout",
     "output_type": "stream",
     "text": [
      "        A         \n",
      "      A B C       \n",
      "    A B C D E     \n",
      "  A B C D E F G   \n",
      "A B C D E F G H I \n"
     ]
    }
   ],
   "source": [
    "for i in range(1, 6):\n",
    "    k = 65\n",
    "    for j in range(1, 10):\n",
    "        if(j>=6-i and j <=i+4):\n",
    "            print(chr(k),end=\" \")\n",
    "            k += 1\n",
    "        else:\n",
    "            print(\" \",end=\" \")\n",
    "    print()"
   ]
  },
  {
   "cell_type": "markdown",
   "id": "7eedf8b9",
   "metadata": {},
   "source": [
    "# 35"
   ]
  },
  {
   "cell_type": "code",
   "execution_count": 53,
   "id": "9f74a10c",
   "metadata": {},
   "outputs": [
    {
     "name": "stdout",
     "output_type": "stream",
     "text": [
      "        1         \n",
      "      1 2 3       \n",
      "    1 2 3 4 5     \n",
      "  1 2 3 4 5 6 7   \n",
      "1 2 3 4 5 6 7 8 9 \n"
     ]
    }
   ],
   "source": [
    "for i in range(1, 6):\n",
    "    k = 1\n",
    "    for j in range(1, 10):\n",
    "        if(j>=6-i and j <=i+4):\n",
    "            print(k,end=\" \")\n",
    "            k += 1\n",
    "        else:\n",
    "            print(\" \",end=\" \")\n",
    "    print()"
   ]
  },
  {
   "cell_type": "markdown",
   "id": "afd91dd0",
   "metadata": {},
   "source": [
    "# 36"
   ]
  },
  {
   "cell_type": "code",
   "execution_count": 56,
   "id": "f19c5dc3",
   "metadata": {},
   "outputs": [
    {
     "name": "stdout",
     "output_type": "stream",
     "text": [
      "        1         \n",
      "      3 2 1       \n",
      "    5 4 3 2 1     \n",
      "  7 6 5 4 3 2 1   \n",
      "9 8 7 6 5 4 3 2 1 \n"
     ]
    }
   ],
   "source": [
    "k = 1\n",
    "x = k\n",
    "for i in range(1, 6):\n",
    "    for j in range(1, 10):\n",
    "        if(j>=6-i and j <=i+4):\n",
    "            print(k,end=\" \")\n",
    "            k -= 1\n",
    "        else:\n",
    "            print(\" \",end=\" \")\n",
    "    x = x+2\n",
    "    k = x\n",
    "    print()"
   ]
  },
  {
   "cell_type": "markdown",
   "id": "f95fdaf5",
   "metadata": {},
   "source": [
    "# 37"
   ]
  },
  {
   "cell_type": "code",
   "execution_count": 57,
   "id": "a6fdd777",
   "metadata": {},
   "outputs": [
    {
     "name": "stdout",
     "output_type": "stream",
     "text": [
      "        A         \n",
      "      C B A       \n",
      "    E D C B A     \n",
      "  G F E D C B A   \n",
      "I H G F E D C B A \n"
     ]
    }
   ],
   "source": [
    "k = 65\n",
    "x = k\n",
    "for i in range(1, 6):\n",
    "    for j in range(1, 10):\n",
    "        if(j>=6-i and j <=i+4):\n",
    "            print(chr(k),end=\" \")\n",
    "            k -= 1\n",
    "        else:\n",
    "            print(\" \",end=\" \")\n",
    "    x = x+2\n",
    "    k = x\n",
    "    print()"
   ]
  },
  {
   "cell_type": "markdown",
   "id": "1c85579c",
   "metadata": {},
   "source": [
    "# 38"
   ]
  },
  {
   "cell_type": "code",
   "execution_count": 73,
   "id": "9ba581b1",
   "metadata": {},
   "outputs": [
    {
     "name": "stdout",
     "output_type": "stream",
     "text": [
      "        0         \n",
      "      1 0 1       \n",
      "    2 1 0 1 2     \n",
      "  3 2 1 0 1 2 3   \n",
      "4 3 2 1 0 1 2 3 4 \n"
     ]
    }
   ],
   "source": [
    "k = 0\n",
    "for i in range(1, 6):\n",
    "    for j in range(1, 10):\n",
    "        if(j>=6-i and j <=i+4):\n",
    "            print(k,end=\" \")\n",
    "            if(j<5):\n",
    "                k -= 1\n",
    "            else:\n",
    "                k += 1\n",
    "        else:\n",
    "            print(\" \",end=\" \")\n",
    "    print()"
   ]
  },
  {
   "cell_type": "markdown",
   "id": "c0690f91",
   "metadata": {},
   "source": [
    "# 39"
   ]
  },
  {
   "cell_type": "code",
   "execution_count": 74,
   "id": "10d55e21",
   "metadata": {},
   "outputs": [
    {
     "name": "stdout",
     "output_type": "stream",
     "text": [
      "        A         \n",
      "      B A B       \n",
      "    C B A B C     \n",
      "  D C B A B C D   \n",
      "E D C B A B C D E \n"
     ]
    }
   ],
   "source": [
    "k = 65\n",
    "for i in range(1, 6):\n",
    "    for j in range(1, 10):\n",
    "        if(j>=6-i and j <=i+4):\n",
    "            print(chr(k),end=\" \")\n",
    "            if(j<5):\n",
    "                k -= 1\n",
    "            else:\n",
    "                k += 1\n",
    "        else:\n",
    "            print(\" \",end=\" \")\n",
    "    print()"
   ]
  },
  {
   "cell_type": "markdown",
   "id": "57073682",
   "metadata": {},
   "source": [
    "# 40"
   ]
  },
  {
   "cell_type": "code",
   "execution_count": 85,
   "id": "f3a8a522",
   "metadata": {},
   "outputs": [
    {
     "name": "stdout",
     "output_type": "stream",
     "text": [
      "        1         \n",
      "      1 2 1       \n",
      "    1 2 3 2 1     \n",
      "  1 2 3 4 3 2 1   \n",
      "1 2 3 4 5 4 3 2 1 \n"
     ]
    }
   ],
   "source": [
    "for i in range(1, 6):\n",
    "    k = 1\n",
    "    for j in range(1, 10):\n",
    "        if(j>=6-i and j <=i+4):\n",
    "            print(k,end=\" \")\n",
    "            if(j<5):\n",
    "                k += 1\n",
    "            else:\n",
    "                k -= 1\n",
    "        else:\n",
    "            print(\" \",end=\" \")\n",
    "    print()"
   ]
  },
  {
   "cell_type": "markdown",
   "id": "fe781d09",
   "metadata": {},
   "source": [
    "# 41"
   ]
  },
  {
   "cell_type": "code",
   "execution_count": 86,
   "id": "74e1a0d3",
   "metadata": {},
   "outputs": [
    {
     "name": "stdout",
     "output_type": "stream",
     "text": [
      "        A         \n",
      "      A B A       \n",
      "    A B C B A     \n",
      "  A B C D C B A   \n",
      "A B C D E D C B A \n"
     ]
    }
   ],
   "source": [
    "for i in range(1, 6):\n",
    "    k = 65\n",
    "    for j in range(1, 10):\n",
    "        if(j>=6-i and j <=i+4):\n",
    "            print(chr(k),end=\" \")\n",
    "            if(j<5):\n",
    "                k += 1\n",
    "            else:\n",
    "                k -= 1\n",
    "        else:\n",
    "            print(\" \",end=\" \")\n",
    "    print()"
   ]
  },
  {
   "cell_type": "code",
   "execution_count": null,
   "id": "10c62583",
   "metadata": {},
   "outputs": [],
   "source": [
    "63"
   ]
  }
 ],
 "metadata": {
  "kernelspec": {
   "display_name": "Python 3 (ipykernel)",
   "language": "python",
   "name": "python3"
  },
  "language_info": {
   "codemirror_mode": {
    "name": "ipython",
    "version": 3
   },
   "file_extension": ".py",
   "mimetype": "text/x-python",
   "name": "python",
   "nbconvert_exporter": "python",
   "pygments_lexer": "ipython3",
   "version": "3.10.4"
  }
 },
 "nbformat": 4,
 "nbformat_minor": 5
}
