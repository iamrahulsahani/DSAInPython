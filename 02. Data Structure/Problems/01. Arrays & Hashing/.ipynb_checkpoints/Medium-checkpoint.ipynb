{
 "cells": [
  {
   "cell_type": "markdown",
   "id": "dc47166a",
   "metadata": {},
   "source": [
    "<h1 style=\"color:green;\"> 1. (49. Group Anagrams) </h1>"
   ]
  },
  {
   "cell_type": "code",
   "execution_count": 7,
   "id": "983ee497",
   "metadata": {},
   "outputs": [
    {
     "data": {
      "text/plain": [
       "dict_values([['eat', 'tea', 'ate'], ['tan', 'nat'], ['bat']])"
      ]
     },
     "execution_count": 7,
     "metadata": {},
     "output_type": "execute_result"
    }
   ],
   "source": [
    "\"\"\"\n",
    "Given an array of strings strs, group the anagrams together. You can return the answer in any order.\n",
    "\n",
    "An Anagram is a word or phrase formed by rearranging the letters of a different word or phrase, typically using all the original letters exactly once.\n",
    "\n",
    " \n",
    "\n",
    "Example 1:\n",
    "\n",
    "Input: strs = [\"eat\",\"tea\",\"tan\",\"ate\",\"nat\",\"bat\"]\n",
    "Output: [[\"bat\"],[\"nat\",\"tan\"],[\"ate\",\"eat\",\"tea\"]]\n",
    "\"\"\"\n",
    "\n",
    "from collections import defaultdict\n",
    "class Solution:\n",
    "    def groupAnagrams(self, strs: List[str]) -> List[List[str]]:\n",
    "        res = defaultdict(list)\n",
    "        \n",
    "        for s in strs:\n",
    "            count = [0] * 26\n",
    "            \n",
    "            for c in s:\n",
    "                count[ord(c) - ord(\"a\")] += 1\n",
    "                \n",
    "            res[tuple(count)].append(s)\n",
    "            \n",
    "        return res.values()\n",
    "strs = [\"eat\",\"tea\",\"tan\",\"ate\",\"nat\",\"bat\"]\n",
    "s = Solution()\n",
    "s.groupAnagrams(strs)"
   ]
  },
  {
   "cell_type": "markdown",
   "id": "151652a2",
   "metadata": {},
   "source": [
    "<h1 style=\"color:green;\"> 2. (347. Top K Frequent Elements) </h1>"
   ]
  },
  {
   "cell_type": "code",
   "execution_count": 8,
   "id": "45380f35",
   "metadata": {},
   "outputs": [
    {
     "data": {
      "text/plain": [
       "[1, 2]"
      ]
     },
     "execution_count": 8,
     "metadata": {},
     "output_type": "execute_result"
    }
   ],
   "source": [
    "\"\"\"\n",
    "Given an integer array nums and an integer k, return the k most frequent elements. You may return the answer in any order.\n",
    "\n",
    " \n",
    "\n",
    "Example 1:\n",
    "\n",
    "Input: nums = [1,1,1,2,2,3], k = 2\n",
    "Output: [1,2]\n",
    "\"\"\"\n",
    "\n",
    "class Solution:\n",
    "    def topKFrequent(self, nums: List[int], k: int) -> List[int]:\n",
    "        count = {}\n",
    "        freq = [[] for i in range(len(nums)+1)]\n",
    "        \n",
    "        for n in nums:\n",
    "            count[n] = 1 + count.get(n, 0)\n",
    "        for n, c in count.items():\n",
    "            freq[c].append(n)\n",
    "            \n",
    "        res = []\n",
    "        for i in range(len(freq)-1, 0, -1):\n",
    "            for n in freq[i]:\n",
    "                res.append(n)\n",
    "                if len(res) == k:\n",
    "                    return res\n",
    "        \n",
    "nums = [1,1,1,2,2,3]\n",
    "k = 2\n",
    "s = Solution()\n",
    "s.topKFrequent(nums, k)"
   ]
  },
  {
   "cell_type": "code",
   "execution_count": null,
   "id": "d8fcfd50",
   "metadata": {},
   "outputs": [],
   "source": []
  }
 ],
 "metadata": {
  "kernelspec": {
   "display_name": "Python 3 (ipykernel)",
   "language": "python",
   "name": "python3"
  },
  "language_info": {
   "codemirror_mode": {
    "name": "ipython",
    "version": 3
   },
   "file_extension": ".py",
   "mimetype": "text/x-python",
   "name": "python",
   "nbconvert_exporter": "python",
   "pygments_lexer": "ipython3",
   "version": "3.10.4"
  }
 },
 "nbformat": 4,
 "nbformat_minor": 5
}
