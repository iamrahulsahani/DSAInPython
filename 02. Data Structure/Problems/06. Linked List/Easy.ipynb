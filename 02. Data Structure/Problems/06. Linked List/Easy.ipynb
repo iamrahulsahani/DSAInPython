{
 "cells": [
  {
   "cell_type": "markdown",
   "id": "3df3f67e",
   "metadata": {},
   "source": [
    "# 1. (1290. Convert Binary Number in a Linked List to Integer)"
   ]
  },
  {
   "cell_type": "code",
   "execution_count": null,
   "id": "31e47a9c",
   "metadata": {},
   "outputs": [],
   "source": [
    "\"\"\"\n",
    "Given head which is a reference node to a singly-linked list. The value of each node in the linked list is either 0 or 1. The linked list holds the binary representation of a number.\n",
    "\n",
    "Return the decimal value of the number in the linked list.\n",
    "\n",
    "The most significant bit is at the head of the linked list.\n",
    "\n",
    " \n",
    "\n",
    "Example 1:\n",
    "\n",
    "\n",
    "Input: head = [1,0,1]\n",
    "Output: 5\n",
    "Explanation: (101) in base 2 = (5) in base 10\n",
    "\"\"\"\n",
    "\n",
    "# Definition for singly-linked list.\n",
    "# class ListNode:\n",
    "#     def __init__(self, val=0, next=None):\n",
    "#         self.val = val\n",
    "#         self.next = next\n",
    "class Solution:\n",
    "    def getDecimalValue(self, head: ListNode) -> int:\n",
    "        answer = 0\n",
    "        while head: \n",
    "            answer = 2*answer + head.val \n",
    "            head = head.next \n",
    "        return answer \n",
    "            \n",
    "        "
   ]
  },
  {
   "cell_type": "markdown",
   "id": "796fec0c",
   "metadata": {},
   "source": [
    "# 2. (876. Middle of the Linked List)"
   ]
  },
  {
   "cell_type": "code",
   "execution_count": 3,
   "id": "9c698bff",
   "metadata": {},
   "outputs": [],
   "source": [
    "\"\"\"\n",
    "Given the head of a singly linked list, return the middle node of the linked list.\n",
    "\n",
    "If there are two middle nodes, return the second middle node.\n",
    "\n",
    " \n",
    "\n",
    "Example 1:\n",
    "\n",
    "\n",
    "Input: head = [1,2,3,4,5]\n",
    "Output: [3,4,5]\n",
    "Explanation: The middle node of the list is node 3.\n",
    "\"\"\"\n",
    "\n",
    "class Solution:\n",
    "    def middleNode(self, head):\n",
    "        slow = fast = head\n",
    "        while fast and fast.next:\n",
    "            slow = slow.next\n",
    "            fast = fast.next.next\n",
    "        return slow"
   ]
  },
  {
   "cell_type": "markdown",
   "id": "ceb24bd1",
   "metadata": {},
   "source": [
    "# 3. (206. Reverse Linked List)"
   ]
  },
  {
   "cell_type": "code",
   "execution_count": null,
   "id": "3f0fd307",
   "metadata": {},
   "outputs": [],
   "source": [
    "\"\"\"\n",
    "Given the head of a singly linked list, reverse the list, and return the reversed list.\n",
    "\n",
    " \n",
    "\n",
    "Example 1:\n",
    "\n",
    "\n",
    "Input: head = [1,2,3,4,5]\n",
    "Output: [5,4,3,2,1]\n",
    "\"\"\"\n",
    "\n",
    "# Definition for singly-linked list.\n",
    "# class ListNode:\n",
    "#     def __init__(self, val=0, next=None):\n",
    "#         self.val = val\n",
    "#         self.next = next\n",
    "class Solution:\n",
    "    def reverseList(self, head: Optional[ListNode]) -> Optional[ListNode]:\n",
    "        prev = None\n",
    "        curr = head\n",
    "        \n",
    "        while curr:\n",
    "            nxt = curr.next\n",
    "            curr.next = prev\n",
    "            prev = curr\n",
    "            curr = nxt\n",
    "            \n",
    "        return prev "
   ]
  }
 ],
 "metadata": {
  "kernelspec": {
   "display_name": "Python 3 (ipykernel)",
   "language": "python",
   "name": "python3"
  },
  "language_info": {
   "codemirror_mode": {
    "name": "ipython",
    "version": 3
   },
   "file_extension": ".py",
   "mimetype": "text/x-python",
   "name": "python",
   "nbconvert_exporter": "python",
   "pygments_lexer": "ipython3",
   "version": "3.10.4"
  }
 },
 "nbformat": 4,
 "nbformat_minor": 5
}
