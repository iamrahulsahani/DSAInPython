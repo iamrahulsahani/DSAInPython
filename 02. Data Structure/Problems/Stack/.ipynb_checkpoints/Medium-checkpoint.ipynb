{
 "cells": [
  {
   "cell_type": "markdown",
   "id": "6cff848a",
   "metadata": {},
   "source": [
    "# 1. (155. Min Stack)"
   ]
  },
  {
   "cell_type": "code",
   "execution_count": 1,
   "id": "b0899aeb",
   "metadata": {},
   "outputs": [],
   "source": [
    "\"\"\"\n",
    "Design a stack that supports push, pop, top, and retrieving the minimum element in constant time.\n",
    "\n",
    "Implement the MinStack class:\n",
    "\n",
    "MinStack() initializes the stack object.\n",
    "void push(int val) pushes the element val onto the stack.\n",
    "void pop() removes the element on the top of the stack.\n",
    "int top() gets the top element of the stack.\n",
    "int getMin() retrieves the minimum element in the stack.\n",
    "You must implement a solution with O(1) time complexity for each function.\n",
    "\n",
    " \n",
    "\n",
    "Example 1:\n",
    "\n",
    "Input\n",
    "[\"MinStack\",\"push\",\"push\",\"push\",\"getMin\",\"pop\",\"top\",\"getMin\"]\n",
    "[[],[-2],[0],[-3],[],[],[],[]]\n",
    "\n",
    "Output\n",
    "[null,null,null,null,-3,null,0,-2]\n",
    "\n",
    "Explanation\n",
    "MinStack minStack = new MinStack();\n",
    "minStack.push(-2);\n",
    "minStack.push(0);\n",
    "minStack.push(-3);\n",
    "minStack.getMin(); // return -3\n",
    "minStack.pop();\n",
    "minStack.top();    // return 0\n",
    "minStack.getMin(); // return -2\n",
    "\n",
    "constraints : Methods pop, top and getMin operations will always be called on non-empty stacks.\n",
    "\"\"\"\n",
    "\n",
    "\"\"\"\n",
    "Algorithm:\n",
    "1. create two stacks- stack & minStack.\n",
    "2. when after pushing into stack find min value by comparing pushed element to stack & top of minStack.\n",
    "3. push the min val to minStack.\n",
    "4. return top of minStack for min operation.\n",
    "-> all other operations like pop & top will be same as stack.\n",
    "\"\"\"\n",
    "\n",
    "class MinStack:\n",
    "\n",
    "    def __init__(self):\n",
    "        self.stack = []\n",
    "        self.minStack = []\n",
    "        \n",
    "\n",
    "    def push(self, val: int) -> None:\n",
    "        self.stack.append(val)\n",
    "        val = min(val, self.minStack[-1] if self.minStack else val)\n",
    "        self.minStack.append(val)\n",
    "        \n",
    "        \n",
    "\n",
    "    def pop(self) -> None:\n",
    "        self.stack.pop()\n",
    "        self.minStack.pop()\n",
    "        \n",
    "\n",
    "    def top(self) -> int:\n",
    "        return self.stack[-1]\n",
    "        \n",
    "\n",
    "    def getMin(self) -> int:\n",
    "        return self.minStack[-1]\n",
    "        \n",
    "\n",
    "\n",
    "# Your MinStack object will be instantiated and called as such:\n",
    "# obj = MinStack()\n",
    "# obj.push(val)\n",
    "# obj.pop()\n",
    "# param_3 = obj.top()\n",
    "# param_4 = obj.getMin()"
   ]
  },
  {
   "cell_type": "markdown",
   "id": "77c13ee1",
   "metadata": {},
   "source": [
    "# 2. (22. Generate Parentheses)"
   ]
  },
  {
   "cell_type": "code",
   "execution_count": 4,
   "id": "5c65b4b2",
   "metadata": {},
   "outputs": [
    {
     "data": {
      "text/plain": [
       "['((()))', '(()())', '(())()', '()(())', '()()()']"
      ]
     },
     "execution_count": 4,
     "metadata": {},
     "output_type": "execute_result"
    }
   ],
   "source": [
    "\"\"\"\n",
    "Given n pairs of parentheses, write a function to generate all combinations of well-formed parentheses.\n",
    "\n",
    " \n",
    "\n",
    "Example 1:\n",
    "\n",
    "Input: n = 3\n",
    "Output: [\"((()))\",\"(()())\",\"(())()\",\"()(())\",\"()()()\"]\n",
    "\"\"\"\n",
    "\n",
    "\"\"\"\n",
    "Algorithm :\n",
    "1. add open parenthesis recursively if open < n & then pop\n",
    "2. add closing parenthesis recursively if closed < open & then pop\n",
    "3. return output when open == closed == n\n",
    "\"\"\"\n",
    "\n",
    "class Solution:\n",
    "    def generateParenthesis(self, n: int) -> List[str]:\n",
    "        \n",
    "        stack = []\n",
    "        res = []\n",
    "        \n",
    "        def backtrack(openN, closedN):\n",
    "            if openN == closedN == n:\n",
    "                res.append(\"\".join(stack))\n",
    "                return\n",
    "            \n",
    "            if openN < n:\n",
    "                stack.append(\"(\")\n",
    "                backtrack(openN +1, closedN)\n",
    "                stack.pop()\n",
    "                \n",
    "            if closedN < openN:\n",
    "                stack.append(\")\")\n",
    "                backtrack(openN, closedN + 1)\n",
    "                stack.pop()\n",
    "                \n",
    "        backtrack(0, 0)\n",
    "        return res\n",
    "    \n",
    "n = 3\n",
    "s = Solution()\n",
    "s.generateParenthesis(n)"
   ]
  },
  {
   "cell_type": "markdown",
   "id": "3d80b177",
   "metadata": {},
   "source": [
    "# 3. (735. Asteroid Collision)"
   ]
  },
  {
   "cell_type": "code",
   "execution_count": 8,
   "id": "625398bf",
   "metadata": {},
   "outputs": [
    {
     "data": {
      "text/plain": [
       "[5, 10]"
      ]
     },
     "execution_count": 8,
     "metadata": {},
     "output_type": "execute_result"
    }
   ],
   "source": [
    "\"\"\"\n",
    "We are given an array asteroids of integers representing asteroids in a row.\n",
    "\n",
    "For each asteroid, the absolute value represents its size, and the sign represents its direction (positive meaning right, negative meaning left). Each asteroid moves at the same speed.\n",
    "\n",
    "Find out the state of the asteroids after all collisions. If two asteroids meet, the smaller one will explode. If both are the same size, both will explode. Two asteroids moving in the same direction will never meet.\n",
    "\n",
    " \n",
    "\n",
    "Example 1:\n",
    "\n",
    "Input: asteroids = [5,10,-5]\n",
    "Output: [5,10]\n",
    "Explanation: The 10 and -5 collide resulting in 10. The 5 and 10 never collide.\n",
    "\n",
    "\"\"\"\n",
    "\n",
    "\"\"\"\n",
    "Algorithm:\n",
    "1. loop over asteroids\n",
    "2. again loop until stack is not empty and asteroid i positive and top of stack is negative.\n",
    "3. find difference by adding top of stack and current asteroid\n",
    "4. if difference is negative then pop the stack\n",
    "5. if difference is positive then set asteroid to 0 (this is never going to append in stack.)\n",
    "6. if difference is 0 then do both opping the stack and setting asteroid to 0.\n",
    "7. if asteroid is not zero the add it to stack after lnner loop.\n",
    "8. return stack\n",
    "\"\"\"\n",
    "\n",
    "class Solution:\n",
    "    def asteroidCollision(self, asteroids: List[int]) -> List[int]:\n",
    "        stack = []\n",
    "        \n",
    "        for a in asteroids:\n",
    "            while stack and a < 0 and stack[-1] > 0:\n",
    "                diff = a + stack[-1]\n",
    "                if diff < 0:\n",
    "                    stack.pop()\n",
    "                elif diff > 0:\n",
    "                    a = 0\n",
    "                else:\n",
    "                    stack.pop()\n",
    "                    a = 0\n",
    "            if a:\n",
    "                stack.append(a)\n",
    "        return stack\n",
    "    \n",
    "    \n",
    "a = [5,10,-5]        \n",
    "s = Solution()\n",
    "s.asteroidCollision(a)"
   ]
  },
  {
   "cell_type": "markdown",
   "id": "bff0d5b7",
   "metadata": {},
   "source": [
    "# 4. (739. Daily Temperatures)"
   ]
  },
  {
   "cell_type": "code",
   "execution_count": 11,
   "id": "21265051",
   "metadata": {},
   "outputs": [
    {
     "data": {
      "text/plain": [
       "[1, 1, 4, 2, 1, 1, 0, 0]"
      ]
     },
     "execution_count": 11,
     "metadata": {},
     "output_type": "execute_result"
    }
   ],
   "source": [
    "\"\"\"\n",
    "Given an array of integers temperatures represents the daily temperatures, return an array answer such that answer[i] is the number of days you have to wait after the ith day to get a warmer temperature. If there is no future day for which this is possible, keep answer[i] == 0 instead.\n",
    "\n",
    " \n",
    "\n",
    "Example 1:\n",
    "\n",
    "Input: temperatures = [73,74,75,71,69,72,76,73]\n",
    "Output: [1,1,4,2,1,1,0,0]\n",
    "\"\"\"\n",
    "\n",
    "\"\"\"\n",
    "Algorithm:\n",
    "1. take two stacks - one for storing result initialised with all zeroes & other for storing index & temperature.\n",
    "2. loop for each temperature in temperatures.\n",
    "3. while stack is not empty and temperature is greater than top of stack keep popping and then push the popped elements to\n",
    "the resultant stack.\n",
    "4. at the end of while push every element to the stack.\n",
    "5. return resultant stack.\n",
    "\"\"\"\n",
    "\n",
    "class Solution:\n",
    "    def dailyTemperatures(self, temperatures: List[int]) -> List[int]:\n",
    "        stack = []\n",
    "        res = [0] * len(temperatures)\n",
    "        \n",
    "        for i,t in enumerate(temperatures):\n",
    "            while stack and t > stack[-1][0]:\n",
    "                stackT, stackInd = stack.pop()\n",
    "                res[stackInd] = (i - stackInd)\n",
    "            stack.append([t, i])\n",
    "        return res\n",
    "\n",
    "temperatures = [73,74,75,71,69,72,76,73]\n",
    "s = Solution()\n",
    "s.dailyTemperatures(temperatures)"
   ]
  },
  {
   "cell_type": "markdown",
   "id": "8ad6589b",
   "metadata": {},
   "source": [
    "# 5. (227. Basic Calculator II)"
   ]
  },
  {
   "cell_type": "code",
   "execution_count": 13,
   "id": "39e3cf36",
   "metadata": {},
   "outputs": [
    {
     "data": {
      "text/plain": [
       "7"
      ]
     },
     "execution_count": 13,
     "metadata": {},
     "output_type": "execute_result"
    }
   ],
   "source": [
    "\"\"\"\n",
    "Given a string s which represents an expression, evaluate this expression and return its value. \n",
    "\n",
    "The integer division should truncate toward zero.\n",
    "\n",
    "You may assume that the given expression is always valid. All intermediate results will be in the range of [-231, 231 - 1].\n",
    "\n",
    "Note: You are not allowed to use any built-in function which evaluates strings as mathematical expressions, such as eval().\n",
    "\n",
    " \n",
    "\n",
    "Example 1:\n",
    "\n",
    "Input: s = \"3+2*2\"\n",
    "Output: 7\n",
    "\"\"\"\n",
    "\n",
    "\"\"\"\n",
    "Algorithm:\n",
    "1. scan every character\n",
    "2. if char is digit then convert it to a number by multiplying it with 10 then adding to itself.\n",
    "3. if char is any valid operator then check \n",
    "    if it is + then push into stack\n",
    "    if it is -then push negative value of stack(because 5-3 == 5 +(-3))\n",
    "    if it is * then pop the top of stack & multiply with converted number & then push the result to stack.\n",
    "    if it is / then pop the top of stack  & divide (floor division) with converted number & then push the result to stack.\n",
    "    after all above operation set num  to zero & sign with current char.\n",
    "4. return sum of stack.\n",
    "                \n",
    "                                            \n",
    "\"\"\"\n",
    "\n",
    "class Solution:\n",
    "    def calculate(self, s):\n",
    "        num, stack, sign = 0, [], \"+\"\n",
    "        for i in range(len(s)):\n",
    "            if s[i].isdigit():\n",
    "                num = num * 10 + int(s[i])\n",
    "            if s[i] in \"+-*/\" or i == len(s) - 1:\n",
    "                if sign == \"+\":\n",
    "                    stack.append(num)\n",
    "                elif sign == \"-\":\n",
    "                    stack.append(-num)\n",
    "                elif sign == \"*\":\n",
    "                    stack.append(stack.pop()*num)\n",
    "                else:\n",
    "                    stack.append(int(stack.pop()/num))\n",
    "                num = 0\n",
    "                sign = s[i]\n",
    "        return sum(stack)\n",
    "\n",
    "inp = \"3+2*2\"\n",
    "s = Solution()\n",
    "s.calculate(inp)"
   ]
  },
  {
   "cell_type": "code",
   "execution_count": null,
   "id": "30757abc",
   "metadata": {},
   "outputs": [],
   "source": []
  }
 ],
 "metadata": {
  "kernelspec": {
   "display_name": "Python 3 (ipykernel)",
   "language": "python",
   "name": "python3"
  },
  "language_info": {
   "codemirror_mode": {
    "name": "ipython",
    "version": 3
   },
   "file_extension": ".py",
   "mimetype": "text/x-python",
   "name": "python",
   "nbconvert_exporter": "python",
   "pygments_lexer": "ipython3",
   "version": "3.10.4"
  }
 },
 "nbformat": 4,
 "nbformat_minor": 5
}
